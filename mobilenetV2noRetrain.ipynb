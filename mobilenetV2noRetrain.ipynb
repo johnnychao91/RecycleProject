{
  "cells": [
    {
      "cell_type": "markdown",
      "metadata": {
        "id": "ZgnRyb39Okcp"
      },
      "source": [
        "匯入函式庫和資料"
      ]
    },
    {
      "cell_type": "code",
      "execution_count": null,
      "metadata": {
        "colab": {
          "base_uri": "https://localhost:8080/",
          "height": 35
        },
        "id": "pUb-ejkZDcFG",
        "outputId": "30f23e2b-3b08-4d93-db1c-fa4e32a33fd4"
      },
      "outputs": [],
      "source": [
        "import tensorflow as tf\n",
        "\n",
        "# 顯示 TensorFlow 版本\n",
        "print(\"TensorFlow version:\", tf.__version__)\n",
        "\n",
        "# 列出可用的實體裝置\n",
        "from tensorflow.python.client import device_lib\n",
        "devices = device_lib.list_local_devices()\n",
        "\n",
        "print(\"\\nAvailable devices:\")\n",
        "for device in devices:\n",
        "    print(f\"- {device.name} ({device.device_type})\")"
      ]
    },
    {
      "cell_type": "code",
      "execution_count": null,
      "metadata": {
        "id": "56nYp0-HEgPD"
      },
      "outputs": [],
      "source": [
        "import os\n",
        "import glob\n",
        "\n",
        "import numpy as np # linear algebra\n",
        "import pandas as pd # data processing, CSV file I/O (e.g. pd.read_csv)\n",
        "import seaborn as sns\n",
        "import matplotlib.pyplot as plt\n",
        "import matplotlib.image as mimg\n",
        "%matplotlib inline\n",
        "import cv2\n",
        "\n",
        "from os import listdir, makedirs, getcwd, remove\n",
        "from os.path import isfile, join, abspath, exists, isdir, expanduser\n",
        "from PIL import Image\n",
        "from pathlib import Path\n",
        "from skimage.io import imread\n",
        "from skimage.transform import resize\n",
        "from keras import layers, Model\n",
        "from sklearn.model_selection import train_test_split"
      ]
    },
    {
      "cell_type": "code",
      "execution_count": null,
      "metadata": {
        "colab": {
          "base_uri": "https://localhost:8080/"
        },
        "id": "u9ZHUYnHEjGP",
        "outputId": "d0bf6702-4ead-462d-cedf-902716451f97"
      },
      "outputs": [],
      "source": [
        "\"\"\"\n",
        "from google.colab import drive\n",
        "drive.mount('/content/drive')\n",
        "\"\"\""
      ]
    },
    {
      "cell_type": "code",
      "execution_count": null,
      "metadata": {
        "colab": {
          "base_uri": "https://localhost:8080/"
        },
        "id": "Z4zeQ7AnEoYc",
        "outputId": "aefb5a10-7335-4de5-8b47-ca45aefab6d6"
      },
      "outputs": [],
      "source": [
        "INPUT_PATH = \"./data/realwaste-main/RealWaste\"\n",
        "print(os.listdir(INPUT_PATH))"
      ]
    },
    {
      "cell_type": "code",
      "execution_count": null,
      "metadata": {
        "id": "-ELnDHHQFPD5"
      },
      "outputs": [],
      "source": [
        "glass = Path(INPUT_PATH + '/Glass').glob('*.jpg')\n",
        "metal = Path(INPUT_PATH + '/Metal').glob('*.jpg')\n",
        "foodorga = Path(INPUT_PATH + '/Food Organics').glob('*.jpg')\n",
        "mistrash = Path(INPUT_PATH + '/Miscellaneous Trash').glob('*.jpg')\n",
        "plastic = Path(INPUT_PATH + '/Plastic').glob('*.jpg')\n",
        "paper = Path(INPUT_PATH + '/Paper').glob('*.jpg')\n",
        "textrash = Path(INPUT_PATH + '/Textile Trash').glob('*.jpg')\n",
        "cardboard = Path(INPUT_PATH + '/Cardboard').glob('*.jpg')\n",
        "vegetation = Path(INPUT_PATH + '/Vegetation').glob('*.jpg')"
      ]
    },
    {
      "cell_type": "code",
      "execution_count": null,
      "metadata": {
        "id": "hNeVC0-hGzhR"
      },
      "outputs": [],
      "source": [
        "galss_data = [(image, 0) for image in glass]\n",
        "metal_data = [(image, 1) for image in metal]\n",
        "foodorga_data = [(image, 2) for image in foodorga]\n",
        "mistrash_data = [(image, 3) for image in mistrash]\n",
        "plastic_data = [(image, 4) for image in plastic]\n",
        "paper_data = [(image, 5) for image in paper]\n",
        "textrash_data = [(image, 6) for image in textrash]\n",
        "cardboard_data = [(image, 7) for image in cardboard]\n",
        "vegetation_data = [(image, 8) for image in vegetation]\n",
        "\n",
        "total_data = galss_data + metal_data + foodorga_data + mistrash_data + plastic_data + paper_data + textrash_data + cardboard_data + vegetation_data\n",
        "total_data = pd.DataFrame(total_data, columns=['image', 'label'])"
      ]
    },
    {
      "cell_type": "code",
      "execution_count": null,
      "metadata": {
        "id": "3Dl6qtFpN0E0"
      },
      "outputs": [],
      "source": [
        "train_val_df, test_df = train_test_split(total_data, test_size=0.10, random_state=42)"
      ]
    },
    {
      "cell_type": "code",
      "execution_count": null,
      "metadata": {
        "id": "rAmI4NiWOWTN"
      },
      "outputs": [],
      "source": [
        "train_df, val_df = train_test_split(train_val_df, test_size=1/6, random_state=42)"
      ]
    },
    {
      "cell_type": "markdown",
      "metadata": {
        "id": "25OsI74wOzBZ"
      },
      "source": [
        "訓練資料集處理"
      ]
    },
    {
      "cell_type": "code",
      "execution_count": null,
      "metadata": {
        "id": "jW_LUlDFHWg4"
      },
      "outputs": [],
      "source": [
        "train_df = train_df.sample(frac=1., random_state=100).reset_index(drop=True)"
      ]
    },
    {
      "cell_type": "code",
      "execution_count": null,
      "metadata": {
        "colab": {
          "base_uri": "https://localhost:8080/",
          "height": 672
        },
        "id": "nXzaQhR-Hdr0",
        "outputId": "63976dc9-bc81-4e93-aed0-5c5d83dc5e6c"
      },
      "outputs": [],
      "source": [
        "count_result = train_df['label'].value_counts()\n",
        "print('Total : ', len(train_df))\n",
        "print(count_result)\n",
        "\n",
        "# Plot the results\n",
        "plt.figure(figsize=(24,5))\n",
        "sns.countplot(x = 'label', data =  train_df)\n",
        "plt.title('Number of classes', fontsize=16)\n",
        "plt.xlabel('Class type', fontsize=14)\n",
        "plt.ylabel('Count', fontsize=14)\n",
        "plt.xticks(range(len(count_result.index)),\n",
        "           ['Glass : 0', 'Metal : 1', 'Food Organics : 2', 'Miscellaneous Trash : 3', 'Plastic : 4', 'Paper : 5', 'Textile Trash : 6', 'Cardboard : 7', 'Vegetation : 8'],\n",
        "           fontsize=14)\n",
        "plt.show()"
      ]
    },
    {
      "cell_type": "code",
      "execution_count": null,
      "metadata": {
        "id": "yJWks3zUIok6"
      },
      "outputs": [],
      "source": [
        "def data_input(dataset):\n",
        "    #print(dataset.shape)\n",
        "    for image in dataset:\n",
        "        im = cv2.imread(str(image))\n",
        "        im = cv2.resize(im, (224,224))\n",
        "        if im.shape[2] == 1:\n",
        "          im = np.dstack([im, im, im])\n",
        "        x_image = cv2.cvtColor(im, cv2.COLOR_BGR2RGB)\n",
        "        x_image = x_image.astype(np.float32)/255.\n",
        "        return x_image"
      ]
    },
    {
      "cell_type": "code",
      "execution_count": null,
      "metadata": {
        "colab": {
          "base_uri": "https://localhost:8080/"
        },
        "id": "BjUDBVfhItpj",
        "outputId": "83b5e8b7-9f03-455a-c12b-b9f71a700fea"
      },
      "outputs": [],
      "source": [
        "x_train, y_train = ([data_input(train_df.iloc[i][:]) for i in range(len(train_df))],\n",
        "            [train_df.iloc[i][1] for i in range(len(train_df))])\n",
        "x_train = np.array(x_train)\n",
        "y_train = np.array(y_train)\n",
        "\n",
        "print(\"Total number of validation examples: \", x_train.shape)\n",
        "print(\"Total number of labels:\", y_train.shape)"
      ]
    },
    {
      "cell_type": "code",
      "execution_count": null,
      "metadata": {
        "id": "gbJnrNLWS4tg"
      },
      "outputs": [],
      "source": [
        "y_train = tf.keras.utils.to_categorical(y_train,9)"
      ]
    },
    {
      "cell_type": "code",
      "execution_count": null,
      "metadata": {
        "colab": {
          "base_uri": "https://localhost:8080/",
          "height": 1000
        },
        "collapsed": true,
        "id": "P1Mfbw7mTBxQ",
        "outputId": "1ac1e978-29e3-4341-d519-dd9ed66a6fd7"
      },
      "outputs": [],
      "source": [
        "fig, ax = plt.subplots(3, 4, figsize=(20,15))\n",
        "for i, axi in enumerate(ax.flat):\n",
        "    image = imread(train_df.image[i])\n",
        "    axi.imshow(image, cmap='bone')\n",
        "    axi.set_title(('Glass' if train_df.label[i] == 0\n",
        "                   else 'Metal' if train_df.label[i] == 1\n",
        "                   else 'Food Organics' if train_df.label[i] == 2\n",
        "                   else 'Miscellaneous Trash' if train_df.label[i] == 3\n",
        "                   else 'Plastic' if train_df.label[i] == 4\n",
        "                   else 'Paper' if train_df.label[i] == 5\n",
        "                   else 'Textile Trash' if train_df.label[i] == 6\n",
        "                   else 'Cardboard' if train_df.label[i] == 7\n",
        "                   else 'Vegetation')\n",
        "                  + '  [size=' + str(image.shape) +']',\n",
        "                  fontsize=14)\n",
        "    axi.set(xticks=[], yticks=[])"
      ]
    },
    {
      "cell_type": "markdown",
      "metadata": {
        "id": "crmwWN_SPM0Z"
      },
      "source": [
        "Validation資料集處理"
      ]
    },
    {
      "cell_type": "code",
      "execution_count": null,
      "metadata": {
        "id": "M-E5c3qQTOAM"
      },
      "outputs": [],
      "source": [
        "val_df = val_df.sample(frac=1., random_state=100).reset_index(drop=True)"
      ]
    },
    {
      "cell_type": "code",
      "execution_count": null,
      "metadata": {
        "colab": {
          "base_uri": "https://localhost:8080/",
          "height": 672
        },
        "id": "fozIGViNPWiZ",
        "outputId": "a29b9b5e-0e8f-49fa-b92f-3338bf815c38"
      },
      "outputs": [],
      "source": [
        "count_result = val_df['label'].value_counts()\n",
        "print('Total : ', len(val_df))\n",
        "print(count_result)\n",
        "\n",
        "# Plot the results\n",
        "plt.figure(figsize=(24,5))\n",
        "sns.countplot(x = 'label', data =  val_df)\n",
        "plt.title('Number of classes', fontsize=16)\n",
        "plt.xlabel('Class type', fontsize=14)\n",
        "plt.ylabel('Count', fontsize=14)\n",
        "plt.xticks(range(len(count_result.index)),\n",
        "           ['Glass : 0', 'Metal : 1', 'Food Organics : 2', 'Miscellaneous Trash : 3', 'Plastic : 4', 'Paper : 5', 'Textile Trash : 6', 'Cardboard : 7', 'Vegetation : 8'],\n",
        "           fontsize=14)\n",
        "plt.show()"
      ]
    },
    {
      "cell_type": "code",
      "execution_count": null,
      "metadata": {
        "colab": {
          "base_uri": "https://localhost:8080/"
        },
        "id": "rbsEErX_P3TI",
        "outputId": "c18edf1b-eac5-4c49-d7f5-7e463e84c5d9"
      },
      "outputs": [],
      "source": [
        "x_val, y_val = ([data_input(val_df.iloc[i][:]) for i in range(len(val_df))],\n",
        "            [val_df.iloc[i][1] for i in range(len(val_df))])\n",
        "x_val = np.array(x_val)\n",
        "y_val = np.array(y_val)\n",
        "\n",
        "print(\"Total number of validation examples: \", x_val.shape)\n",
        "print(\"Total number of labels:\", y_val.shape)"
      ]
    },
    {
      "cell_type": "code",
      "execution_count": null,
      "metadata": {
        "id": "R4krLIUZP4Jg"
      },
      "outputs": [],
      "source": [
        "y_val = tf.keras.utils.to_categorical(y_val,9)"
      ]
    },
    {
      "cell_type": "markdown",
      "metadata": {
        "id": "gZJ4W9suRxYQ"
      },
      "source": [
        "測試資料集處理"
      ]
    },
    {
      "cell_type": "code",
      "execution_count": null,
      "metadata": {
        "id": "4kOHiqriRwvp"
      },
      "outputs": [],
      "source": [
        "test_df = test_df.sample(frac=1., random_state=100).reset_index(drop=True)"
      ]
    },
    {
      "cell_type": "code",
      "execution_count": null,
      "metadata": {
        "colab": {
          "base_uri": "https://localhost:8080/",
          "height": 674
        },
        "id": "ezB-chc1R8Og",
        "outputId": "1bb3ab65-9758-446b-9b87-dab83f316b51"
      },
      "outputs": [],
      "source": [
        "count_result = test_df['label'].value_counts()\n",
        "print('Total : ', len(test_df))\n",
        "print(count_result)\n",
        "\n",
        "# Plot the results\n",
        "plt.figure(figsize=(24,5))\n",
        "sns.countplot(x = 'label', data =  test_df)\n",
        "plt.title('Number of classes', fontsize=16)\n",
        "plt.xlabel('Class type', fontsize=14)\n",
        "plt.ylabel('Count', fontsize=14)\n",
        "plt.xticks(range(len(count_result.index)),\n",
        "           ['Glass : 0', 'Metal : 1', 'Food Organics : 2', 'Miscellaneous Trash : 3', 'Plastic : 4', 'Paper : 5', 'Textile Trash : 6', 'Cardboard : 7', 'Vegetation : 8'],\n",
        "           fontsize=14)\n",
        "plt.show()"
      ]
    },
    {
      "cell_type": "code",
      "execution_count": null,
      "metadata": {
        "colab": {
          "base_uri": "https://localhost:8080/"
        },
        "id": "VVbq_kHiSPBt",
        "outputId": "405bf514-41b2-422a-ecca-83a7f99a3b36"
      },
      "outputs": [],
      "source": [
        "x_test, y_test = ([data_input(test_df.iloc[i][:]) for i in range(len(test_df))],\n",
        "            [test_df.iloc[i][1] for i in range(len(test_df))])\n",
        "x_test = np.array(x_test)\n",
        "y_test = np.array(y_test)\n",
        "\n",
        "print(\"Total number of validation examples: \", x_test.shape)\n",
        "print(\"Total number of labels:\", y_test.shape)"
      ]
    },
    {
      "cell_type": "code",
      "execution_count": null,
      "metadata": {
        "id": "nw7-sjnsTCFB"
      },
      "outputs": [],
      "source": [
        "y_test = tf.keras.utils.to_categorical(y_test,9)"
      ]
    },
    {
      "cell_type": "code",
      "execution_count": null,
      "metadata": {
        "colab": {
          "base_uri": "https://localhost:8080/"
        },
        "id": "doumt8lnPcXy",
        "outputId": "2846c7f7-0edb-4ab0-e783-762fcfb90f6f"
      },
      "outputs": [],
      "source": [
        "IMG_SIZE = (224,224)\n",
        "IMG_SHAPE = IMG_SIZE + (3,)\n",
        "base_model = tf.keras.applications.MobileNetV2(input_shape=IMG_SHAPE,\n",
        "                        include_top=False,\n",
        "                        weights='imagenet')"
      ]
    },
    {
      "cell_type": "code",
      "execution_count": null,
      "metadata": {
        "id": "jW2a4-IrQ9Gp"
      },
      "outputs": [],
      "source": [
        "base_model.trainable = False"
      ]
    },
    {
      "cell_type": "code",
      "execution_count": null,
      "metadata": {
        "id": "FGcBdtm6Q9mZ"
      },
      "outputs": [],
      "source": [
        "x = base_model.output\n",
        "x = layers.GlobalAveragePooling2D()(x)\n",
        "x = layers.Flatten()(x)\n",
        "x = layers.Dense(32, activation = 'relu')(x)\n",
        "x = layers.Dropout(0.2)(x)\n",
        "x = layers.Dense(16, activation = 'relu')(x)\n",
        "x = layers.Dropout(0.2)(x)\n",
        "x = layers.Dense(9, activation = 'softmax')(x)\n",
        "model = Model(base_model.input,x)"
      ]
    },
    {
      "cell_type": "code",
      "execution_count": null,
      "metadata": {
        "id": "WH9vH_ocRA1B"
      },
      "outputs": [],
      "source": [
        "base_learning_rate = 0.001"
      ]
    },
    {
      "cell_type": "code",
      "execution_count": null,
      "metadata": {
        "id": "uIGzHmf-RDWh"
      },
      "outputs": [],
      "source": [
        "model.compile(optimizer=tf.keras.optimizers.Adam(learning_rate=base_learning_rate),\n",
        "              loss=tf.keras.losses.CategoricalCrossentropy(from_logits=False),\n",
        "              metrics=['accuracy'])"
      ]
    },
    {
      "cell_type": "code",
      "execution_count": null,
      "metadata": {
        "id": "PCSSTNABRHI5"
      },
      "outputs": [],
      "source": [
        "batch_size = 16\n",
        "initial_epochs = 50"
      ]
    },
    {
      "cell_type": "code",
      "execution_count": null,
      "metadata": {
        "colab": {
          "base_uri": "https://localhost:8080/"
        },
        "id": "lAG5R4K2RI0B",
        "outputId": "313ca646-24cf-4cc8-ad94-3c5788b1954e"
      },
      "outputs": [],
      "source": [
        "history = model.fit(x_train, y_train,\n",
        "          batch_size = batch_size,\n",
        "          epochs = initial_epochs,\n",
        "          validation_data = (x_val, y_val)\n",
        "          )"
      ]
    },
    {
      "cell_type": "code",
      "execution_count": null,
      "metadata": {
        "colab": {
          "base_uri": "https://localhost:8080/"
        },
        "id": "n81ANGh9RXJl",
        "outputId": "76edd9ef-1836-4285-9054-b4f388c2bc64"
      },
      "outputs": [],
      "source": [
        "loss, accuracy = model.evaluate(x_test, y_test)\n",
        "print('Test accuracy :', accuracy)"
      ]
    }
  ],
  "metadata": {
    "accelerator": "GPU",
    "colab": {
      "gpuType": "T4",
      "provenance": []
    },
    "kernelspec": {
      "display_name": "base",
      "language": "python",
      "name": "python3"
    },
    "language_info": {
      "codemirror_mode": {
        "name": "ipython",
        "version": 3
      },
      "file_extension": ".py",
      "mimetype": "text/x-python",
      "name": "python",
      "nbconvert_exporter": "python",
      "pygments_lexer": "ipython3",
      "version": "3.11.4"
    }
  },
  "nbformat": 4,
  "nbformat_minor": 0
}
